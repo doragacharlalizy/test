{
 "cells": [
  {
   "cell_type": "markdown",
   "metadata": {},
   "source": [
    "# My Jupyter Notebook on IBM Watson Studio"
   ]
  },
  {
   "cell_type": "markdown",
   "metadata": {},
   "source": [
    "#### Lizy"
   ]
  },
  {
   "cell_type": "markdown",
   "metadata": {},
   "source": [
    "Student"
   ]
  },
  {
   "cell_type": "markdown",
   "metadata": {},
   "source": [
    "_I am interested in data science because data is factual and can give us the insights to shape the world into a better place._"
   ]
  },
  {
   "cell_type": "markdown",
   "metadata": {},
   "source": [
    "# Data science languages #\n",
    "### Computers are powerful tools for data scientists. They allow us to manipulate, analyze, and visualize our data sets in ways that would be impossible by hand. Browse the data science online course to know all there is to learn regarding data science. In data science, programming is essential, but many programming languages are present. So, for data science which language is required. Here are the top nine programming languages that data scientists should know: ###\n",
    "1.Python\n",
    "2.SQL\n",
    "3.R\n",
    "4.Julia\n",
    "5.Javascript\n",
    "6.Scala\n",
    "7.Java\n",
    "8.GO\n",
    "9.MATLAB\n",
    "10.C/C++"
   ]
  },
  {
   "cell_type": "markdown",
   "metadata": {},
   "source": [
    "# Data science libraries #\n",
    "### Python is the most widely used programming language today. When it comes to solving data science tasks and challenges, Python never ceases to surprise its users. Most data scientists are already leveraging the power of Python programming every day. Python is an easy-to-learn, easy-to-debug, widely used, object-oriented, open-source, high-performance language, and there are many more benefits to Python programming. Python has been built with extraordinary Python libraries for data science that are used by programmers every day in solving problems. ###\n",
    "-Numpy\n",
    "-Pandas\n",
    "-Matplotlib\n",
    "-Scikit-learn\n",
    "-Plotly"
   ]
  },
  {
   "cell_type": "markdown",
   "metadata": {},
   "source": [
    "|**Data science tools**|\n",
    "|------|\n",
    "|*SAS*|\n",
    "|*Apache spark*|\n",
    "|*BigML*|\n",
    "|*D3.js*|\n",
    "|*MATLAB*|\n",
    "|*Excel*|\n",
    "|*ggplot2*|\n",
    "|*Jupyter*|"
   ]
  },
  {
   "cell_type": "markdown",
   "metadata": {},
   "source": [
    "Arithmetic Expression Examples in Jupyter Notebook\n",
    "Arithmetic expressions involve the use of mathematical operations such as addition, subtraction, multiplication, and division to perform calculations on numerical values. In Jupyter Notebook, we can use code cells to perform arithmetic operations and display the results.\n",
    "Here are some examples of arithmetic expressions in Jupyter Notebook:\n",
    "# Addition             \n",
    "2 + 3 # Output: 5\n",
    "# Subtraction\n",
    "5 - 2 # Output: 3\n",
    "# Multiplication\n",
    "4 * 6 # Output: 24\n",
    "# Division\n",
    "10 / 2 # Output: 5\n",
    "Arithmetic expressions can also involve the use of parentheses to indicate the order in which operations should be performed. For example:\n",
    "# Parentheses\n",
    "2 + 3 * 4 # Output: 14 (multiplication is performed first, then addition)\n",
    "(2 + 3) * 4 # Output: 20 (the addition is performed first, then the multiplication)"
   ]
  },
  {
   "cell_type": "code",
   "execution_count": 1,
   "metadata": {},
   "outputs": [
    {
     "name": "stdout",
     "output_type": "stream",
     "text": [
      "26\n"
     ]
    }
   ],
   "source": [
    "x=4\n",
    "y=6\n",
    "z=x*y+2\n",
    "print(z)"
   ]
  },
  {
   "cell_type": "code",
   "execution_count": 2,
   "metadata": {},
   "outputs": [
    {
     "name": "stdout",
     "output_type": "stream",
     "text": [
      "2.0\n"
     ]
    }
   ],
   "source": [
    "minutes=120\n",
    "hours=minutes/60\n",
    "print(hours)"
   ]
  },
  {
   "cell_type": "markdown",
   "metadata": {},
   "source": []
  },
  {
   "cell_type": "markdown",
   "metadata": {},
   "source": [
    "-Collecting data\n",
    "-Processing data\n",
    "-Exploring and visualizing data\n",
    "-Analyzing (data) and/or applying machine learning (to data)\n",
    "-Deciding (or planning) based on acquired insightCollecting data\n"
   ]
  },
  {
   "cell_type": "markdown",
   "metadata": {},
   "source": [
    "\n",
    "There are many authors who have contributed to the field of data science. Some of the most notable authors include:\n",
    "\n",
    "Hadley Wickham: He is a prominent data scientist and author of several popular R packages including ggplot2, dplyr, and tidyr. He has also written several influential books on data science, including \"R for Data Science\" and \"Advanced R.\"\n",
    "\n",
    "Trevor Hastie, Robert Tibshirani, and Jerome Friedman: These three authors co-authored \"The Elements of Statistical Learning,\" which is considered one of the most influential books on machine learning.\n",
    "\n",
    "Jake VanderPlas: He is a data scientist and author of several popular Python packages, including matplotlib, seaborn, and scikit-learn. He has also written several influential books on data science, including \"Python Data Science Handbook\" and \"A Whirlwind Tour of Python.\"\n",
    "\n",
    "Yihui Xie: He is a data scientist and author of several popular R packages, including knitr and bookdown. He has also written several influential books on data science, including \"Dynamic Documents with R and knitr\" and \"Blogdown: Creating Websites with R Markdown.\"\n",
    "\n",
    "Rachel Thomas and Jeremy Howard: They are co-founders of fast.ai, an online platform for learning data science and deep learning. They have also written several influential books on data science, including \"Deep Learning for Coders with Fastai and PyTorch\" and \"Practical Deep Learning for Coders.\""
   ]
  },
  {
   "cell_type": "code",
   "execution_count": null,
   "metadata": {},
   "outputs": [],
   "source": []
  }
 ],
 "metadata": {
  "kernelspec": {
   "display_name": "Python",
   "language": "python",
   "name": "conda-env-python-py"
  },
  "language_info": {
   "codemirror_mode": {
    "name": "ipython",
    "version": 3
   },
   "file_extension": ".py",
   "mimetype": "text/x-python",
   "name": "python",
   "nbconvert_exporter": "python",
   "pygments_lexer": "ipython3",
   "version": "3.7.12"
  }
 },
 "nbformat": 4,
 "nbformat_minor": 4
}
